{
 "cells": [
  {
   "cell_type": "code",
   "execution_count": 1,
   "metadata": {},
   "outputs": [],
   "source": [
    "from volume import *"
   ]
  },
  {
   "cell_type": "code",
   "execution_count": 2,
   "metadata": {
    "scrolled": false
   },
   "outputs": [
    {
     "name": "stdout",
     "output_type": "stream",
     "text": [
      "[Debug] [Volume measurement] Food found in this image: ['Onion', 'Apple', 'Tomato', 'Orange']\n",
      "[Debug] [Volume measurement] Thumb Width values: 190px, 1.2cm\n",
      "[Debug] [Volume measurement] Thumb Height values: 195px, 2.1cm\n",
      "[Debug] [Volume measurement] Square should be '126px' to be equivalent to 1cm2\n",
      "[Debug] [Volume Grid] Drawing Bounding Box\n"
     ]
    },
    {
     "data": {
      "image/png": "[encoded data removed]",
      "text/plain": [
       "<Figure size 432x288 with 1 Axes>"
      ]
     },
     "metadata": {
      "needs_background": "light"
     },
     "output_type": "display_data"
    },
    {
     "name": "stdout",
     "output_type": "stream",
     "text": [
      "[Debug] [Volume measurement] Square (374, 160) - 48.7% - Half\n",
      "[Debug] [Volume measurement] Square (500, 160) - 95.6% - Full\n",
      "[Debug] [Volume measurement] Square (626, 160) - 71.1% - Full\n",
      "[Debug] [Volume measurement] Square (752, 160) - 7.2% - Ignored\n",
      "[Debug] [Volume measurement] **********\n",
      "[Debug] [Volume measurement] Square (374, 286) - 96.6% - Full\n",
      "[Debug] [Volume measurement] Square (500, 286) - 100.0% - Full\n",
      "[Debug] [Volume measurement] Square (626, 286) - 100.0% - Full\n",
      "[Debug] [Volume measurement] Square (752, 286) - 40.2% - Half\n",
      "[Debug] [Volume measurement] **********\n",
      "[Debug] [Volume measurement] Square (374, 412) - 65.1% - Full\n",
      "[Debug] [Volume measurement] Square (500, 412) - 100.0% - Full\n",
      "[Debug] [Volume measurement] Square (626, 412) - 83.1% - Full\n",
      "[Debug] [Volume measurement] Square (752, 412) - 9.6% - Ignored\n",
      "[Debug] [Volume measurement] **********\n",
      "[Debug] [Volume measurement] Square (374, 538) - 1.4% - Ignored\n",
      "[Debug] [Volume measurement] Square (500, 538) - 14.5% - Ignored\n",
      "[Debug] [Volume measurement] Square (626, 538) - 3.1% - Ignored\n",
      "[Debug] [Volume measurement] Square (752, 538) - 0.0% - Ignored\n",
      "[Debug] [Volume measurement] **********\n",
      "[Debug] [Volume measurement] Calculated Area: 9.0\n",
      "Total Duration: 5.044306755065918\n"
     ]
    },
    {
     "data": {
      "text/plain": [
       "9.0"
      ]
     },
     "execution_count": 2,
     "metadata": {},
     "output_type": "execute_result"
    }
   ],
   "source": [
    "top_image = \"Pictures/Segmentation/Apple_TopView1_segmentation.png\"\n",
    "thumbvalues = [1.2, 2.1, 1.0]\n",
    "foodItem = [1, 11, 12, 16]\n",
    "\n",
    "import time\n",
    "\n",
    "start = time.time()\n",
    "\n",
    "area = CalculateArea(top_image, foodItem, thumbvalues)\n",
    "\n",
    "duration = time.time() - start\n",
    "print(\"Total Duration:\", duration)\n",
    "area"
   ]
  },
  {
   "cell_type": "code",
   "execution_count": null,
   "metadata": {},
   "outputs": [],
   "source": []
  }
 ],
 "metadata": {
  "kernelspec": {
   "display_name": "Python 3",
   "language": "python",
   "name": "python3"
  },
  "language_info": {
   "codemirror_mode": {
    "name": "ipython",
    "version": 3
   },
   "file_extension": ".py",
   "mimetype": "text/x-python",
   "name": "python",
   "nbconvert_exporter": "python",
   "pygments_lexer": "ipython3",
   "version": "3.8.5"
  }
 },
 "nbformat": 4,
 "nbformat_minor": 4
}
